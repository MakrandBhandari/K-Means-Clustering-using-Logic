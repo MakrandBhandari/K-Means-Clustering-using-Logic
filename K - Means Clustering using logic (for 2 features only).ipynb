{
 "cells": [
  {
   "cell_type": "code",
   "execution_count": 64,
   "metadata": {},
   "outputs": [],
   "source": [
    "import numpy as np\n",
    "import pandas as pd\n",
    "import matplotlib.pyplot as plt\n",
    "import seaborn as sns\n",
    "from warnings import filterwarnings\n",
    "filterwarnings('ignore')"
   ]
  },
  {
   "cell_type": "code",
   "execution_count": 65,
   "metadata": {},
   "outputs": [
    {
     "data": {
      "text/html": [
       "<div>\n",
       "<style scoped>\n",
       "    .dataframe tbody tr th:only-of-type {\n",
       "        vertical-align: middle;\n",
       "    }\n",
       "\n",
       "    .dataframe tbody tr th {\n",
       "        vertical-align: top;\n",
       "    }\n",
       "\n",
       "    .dataframe thead th {\n",
       "        text-align: right;\n",
       "    }\n",
       "</style>\n",
       "<table border=\"1\" class=\"dataframe\">\n",
       "  <thead>\n",
       "    <tr style=\"text-align: right;\">\n",
       "      <th></th>\n",
       "      <th>Loan_ID</th>\n",
       "      <th>Gender</th>\n",
       "      <th>Married</th>\n",
       "      <th>Dependents</th>\n",
       "      <th>Education</th>\n",
       "      <th>Self_Employed</th>\n",
       "      <th>ApplicantIncome</th>\n",
       "      <th>CoapplicantIncome</th>\n",
       "      <th>LoanAmount</th>\n",
       "      <th>Loan_Amount_Term</th>\n",
       "      <th>Credit_History</th>\n",
       "      <th>Property_Area</th>\n",
       "      <th>Loan_Status</th>\n",
       "    </tr>\n",
       "  </thead>\n",
       "  <tbody>\n",
       "    <tr>\n",
       "      <th>0</th>\n",
       "      <td>LP001003</td>\n",
       "      <td>Male</td>\n",
       "      <td>Yes</td>\n",
       "      <td>1</td>\n",
       "      <td>Graduate</td>\n",
       "      <td>No</td>\n",
       "      <td>4583</td>\n",
       "      <td>1508.0</td>\n",
       "      <td>128.0</td>\n",
       "      <td>360.0</td>\n",
       "      <td>1.0</td>\n",
       "      <td>Rural</td>\n",
       "      <td>N</td>\n",
       "    </tr>\n",
       "    <tr>\n",
       "      <th>1</th>\n",
       "      <td>LP001005</td>\n",
       "      <td>Male</td>\n",
       "      <td>Yes</td>\n",
       "      <td>0</td>\n",
       "      <td>Graduate</td>\n",
       "      <td>Yes</td>\n",
       "      <td>3000</td>\n",
       "      <td>0.0</td>\n",
       "      <td>66.0</td>\n",
       "      <td>360.0</td>\n",
       "      <td>1.0</td>\n",
       "      <td>Urban</td>\n",
       "      <td>Y</td>\n",
       "    </tr>\n",
       "    <tr>\n",
       "      <th>2</th>\n",
       "      <td>LP001006</td>\n",
       "      <td>Male</td>\n",
       "      <td>Yes</td>\n",
       "      <td>0</td>\n",
       "      <td>Not Graduate</td>\n",
       "      <td>No</td>\n",
       "      <td>2583</td>\n",
       "      <td>2358.0</td>\n",
       "      <td>120.0</td>\n",
       "      <td>360.0</td>\n",
       "      <td>1.0</td>\n",
       "      <td>Urban</td>\n",
       "      <td>Y</td>\n",
       "    </tr>\n",
       "    <tr>\n",
       "      <th>3</th>\n",
       "      <td>LP001008</td>\n",
       "      <td>Male</td>\n",
       "      <td>No</td>\n",
       "      <td>0</td>\n",
       "      <td>Graduate</td>\n",
       "      <td>No</td>\n",
       "      <td>6000</td>\n",
       "      <td>0.0</td>\n",
       "      <td>141.0</td>\n",
       "      <td>360.0</td>\n",
       "      <td>1.0</td>\n",
       "      <td>Urban</td>\n",
       "      <td>Y</td>\n",
       "    </tr>\n",
       "    <tr>\n",
       "      <th>4</th>\n",
       "      <td>LP001013</td>\n",
       "      <td>Male</td>\n",
       "      <td>Yes</td>\n",
       "      <td>0</td>\n",
       "      <td>Not Graduate</td>\n",
       "      <td>No</td>\n",
       "      <td>2333</td>\n",
       "      <td>1516.0</td>\n",
       "      <td>95.0</td>\n",
       "      <td>360.0</td>\n",
       "      <td>1.0</td>\n",
       "      <td>Urban</td>\n",
       "      <td>Y</td>\n",
       "    </tr>\n",
       "  </tbody>\n",
       "</table>\n",
       "</div>"
      ],
      "text/plain": [
       "    Loan_ID Gender Married Dependents     Education Self_Employed  \\\n",
       "0  LP001003   Male     Yes          1      Graduate            No   \n",
       "1  LP001005   Male     Yes          0      Graduate           Yes   \n",
       "2  LP001006   Male     Yes          0  Not Graduate            No   \n",
       "3  LP001008   Male      No          0      Graduate            No   \n",
       "4  LP001013   Male     Yes          0  Not Graduate            No   \n",
       "\n",
       "   ApplicantIncome  CoapplicantIncome  LoanAmount  Loan_Amount_Term  \\\n",
       "0             4583             1508.0       128.0             360.0   \n",
       "1             3000                0.0        66.0             360.0   \n",
       "2             2583             2358.0       120.0             360.0   \n",
       "3             6000                0.0       141.0             360.0   \n",
       "4             2333             1516.0        95.0             360.0   \n",
       "\n",
       "   Credit_History Property_Area Loan_Status  \n",
       "0             1.0         Rural           N  \n",
       "1             1.0         Urban           Y  \n",
       "2             1.0         Urban           Y  \n",
       "3             1.0         Urban           Y  \n",
       "4             1.0         Urban           Y  "
      ]
     },
     "execution_count": 65,
     "metadata": {},
     "output_type": "execute_result"
    }
   ],
   "source": [
    "df =  pd.read_csv(\"F:\\DATA SCIENCE\\MACHINE LEARNING\\K Means Clustering\\clustering - loan approval.csv\")\n",
    "df.head()"
   ]
  },
  {
   "cell_type": "markdown",
   "metadata": {},
   "source": [
    "- Here, we will consider only 2 features for making clusters for easy calculation and visualization purpose.\n",
    "- We will consider 'ApplicantIncome' and 'LoanAmount' for our clustering problem"
   ]
  },
  {
   "cell_type": "code",
   "execution_count": 66,
   "metadata": {},
   "outputs": [
    {
     "data": {
      "text/html": [
       "<div>\n",
       "<style scoped>\n",
       "    .dataframe tbody tr th:only-of-type {\n",
       "        vertical-align: middle;\n",
       "    }\n",
       "\n",
       "    .dataframe tbody tr th {\n",
       "        vertical-align: top;\n",
       "    }\n",
       "\n",
       "    .dataframe thead th {\n",
       "        text-align: right;\n",
       "    }\n",
       "</style>\n",
       "<table border=\"1\" class=\"dataframe\">\n",
       "  <thead>\n",
       "    <tr style=\"text-align: right;\">\n",
       "      <th></th>\n",
       "      <th>ApplicantIncome</th>\n",
       "      <th>LoanAmount</th>\n",
       "    </tr>\n",
       "  </thead>\n",
       "  <tbody>\n",
       "    <tr>\n",
       "      <th>0</th>\n",
       "      <td>4583</td>\n",
       "      <td>128.0</td>\n",
       "    </tr>\n",
       "    <tr>\n",
       "      <th>1</th>\n",
       "      <td>3000</td>\n",
       "      <td>66.0</td>\n",
       "    </tr>\n",
       "    <tr>\n",
       "      <th>2</th>\n",
       "      <td>2583</td>\n",
       "      <td>120.0</td>\n",
       "    </tr>\n",
       "    <tr>\n",
       "      <th>3</th>\n",
       "      <td>6000</td>\n",
       "      <td>141.0</td>\n",
       "    </tr>\n",
       "    <tr>\n",
       "      <th>4</th>\n",
       "      <td>2333</td>\n",
       "      <td>95.0</td>\n",
       "    </tr>\n",
       "  </tbody>\n",
       "</table>\n",
       "</div>"
      ],
      "text/plain": [
       "   ApplicantIncome  LoanAmount\n",
       "0             4583       128.0\n",
       "1             3000        66.0\n",
       "2             2583       120.0\n",
       "3             6000       141.0\n",
       "4             2333        95.0"
      ]
     },
     "execution_count": 66,
     "metadata": {},
     "output_type": "execute_result"
    }
   ],
   "source": [
    "D = df[['ApplicantIncome','LoanAmount']]\n",
    "D.head()"
   ]
  },
  {
   "cell_type": "code",
   "execution_count": 67,
   "metadata": {},
   "outputs": [
    {
     "data": {
      "image/png": "[encoded data removed]",
      "text/plain": [
       "<Figure size 432x288 with 1 Axes>"
      ]
     },
     "metadata": {
      "needs_background": "light"
     },
     "output_type": "display_data"
    }
   ],
   "source": [
    "# Plotting D \n",
    "plt.scatter(x = 'ApplicantIncome', y = 'LoanAmount',data = D)\n",
    "plt.xlabel('Applicant Income')\n",
    "plt.ylabel('Loan Amount')\n",
    "plt.title('Loan Clusters')\n",
    "plt.show()"
   ]
  },
  {
   "cell_type": "code",
   "execution_count": 68,
   "metadata": {},
   "outputs": [
    {
     "data": {
      "image/png": "[encoded data removed]",
      "text/plain": [
       "<Figure size 432x288 with 1 Axes>"
      ]
     },
     "metadata": {
      "needs_background": "light"
     },
     "output_type": "display_data"
    }
   ],
   "source": [
    "# Applying K- Means algorithm using logic (stepwise) to form clusters as per these two features customers.\n",
    "\n",
    "# Input required :- Select no. of clusters \n",
    "k = 3\n",
    "\n",
    "# Step - 1 : Select k random points from the dataset as cluster centroids \n",
    "Centroids = D.sample(k)\n",
    "plt.scatter(x = 'ApplicantIncome', y = 'LoanAmount',data = D , c = 'yellow')\n",
    "plt.scatter(x = 'ApplicantIncome', y = 'LoanAmount',data = Centroids, c = 'green')\n",
    "plt.xlabel('Applicant Income')\n",
    "plt.ylabel('Loan Amount')\n",
    "plt.title('Loan Clusters')\n",
    "plt.show()"
   ]
  },
  {
   "cell_type": "code",
   "execution_count": 69,
   "metadata": {},
   "outputs": [
    {
     "data": {
      "text/html": [
       "<div>\n",
       "<style scoped>\n",
       "    .dataframe tbody tr th:only-of-type {\n",
       "        vertical-align: middle;\n",
       "    }\n",
       "\n",
       "    .dataframe tbody tr th {\n",
       "        vertical-align: top;\n",
       "    }\n",
       "\n",
       "    .dataframe thead th {\n",
       "        text-align: right;\n",
       "    }\n",
       "</style>\n",
       "<table border=\"1\" class=\"dataframe\">\n",
       "  <thead>\n",
       "    <tr style=\"text-align: right;\">\n",
       "      <th></th>\n",
       "      <th>ApplicantIncome</th>\n",
       "      <th>LoanAmount</th>\n",
       "      <th>ED w.r.t. centroid 1</th>\n",
       "      <th>ED w.r.t. centroid 2</th>\n",
       "      <th>ED w.r.t. centroid 3</th>\n",
       "    </tr>\n",
       "  </thead>\n",
       "  <tbody>\n",
       "    <tr>\n",
       "      <th>0</th>\n",
       "      <td>4583</td>\n",
       "      <td>128.0</td>\n",
       "      <td>583.123486</td>\n",
       "      <td>2405.799036</td>\n",
       "      <td>1351.148030</td>\n",
       "    </tr>\n",
       "    <tr>\n",
       "      <th>1</th>\n",
       "      <td>3000</td>\n",
       "      <td>66.0</td>\n",
       "      <td>1002.734262</td>\n",
       "      <td>822.000000</td>\n",
       "      <td>235.771075</td>\n",
       "    </tr>\n",
       "    <tr>\n",
       "      <th>2</th>\n",
       "      <td>2583</td>\n",
       "      <td>120.0</td>\n",
       "      <td>1417.141136</td>\n",
       "      <td>408.584141</td>\n",
       "      <td>649.110930</td>\n",
       "    </tr>\n",
       "    <tr>\n",
       "      <th>3</th>\n",
       "      <td>6000</td>\n",
       "      <td>141.0</td>\n",
       "      <td>2000.000250</td>\n",
       "      <td>3822.735800</td>\n",
       "      <td>2768.196705</td>\n",
       "    </tr>\n",
       "    <tr>\n",
       "      <th>4</th>\n",
       "      <td>2333</td>\n",
       "      <td>95.0</td>\n",
       "      <td>1667.607268</td>\n",
       "      <td>157.689568</td>\n",
       "      <td>899.093988</td>\n",
       "    </tr>\n",
       "  </tbody>\n",
       "</table>\n",
       "</div>"
      ],
      "text/plain": [
       "   ApplicantIncome  LoanAmount  ED w.r.t. centroid 1  ED w.r.t. centroid 2  \\\n",
       "0             4583       128.0            583.123486           2405.799036   \n",
       "1             3000        66.0           1002.734262            822.000000   \n",
       "2             2583       120.0           1417.141136            408.584141   \n",
       "3             6000       141.0           2000.000250           3822.735800   \n",
       "4             2333        95.0           1667.607268            157.689568   \n",
       "\n",
       "   ED w.r.t. centroid 3  \n",
       "0           1351.148030  \n",
       "1            235.771075  \n",
       "2            649.110930  \n",
       "3           2768.196705  \n",
       "4            899.093988  "
      ]
     },
     "execution_count": 69,
     "metadata": {},
     "output_type": "execute_result"
    }
   ],
   "source": [
    "# Step - 2 : Calculate Euclidean Distance of each point with the centroids\n",
    "ED = []\n",
    "ED_cen1 = []\n",
    "ED_cen2 = []\n",
    "ED_cen3 = []\n",
    "for i in D.itertuples():\n",
    "    for j in Centroids.itertuples():\n",
    "        dist = np.sqrt((i[1] - j[1])**2 + (i[2] - j[2])**2)\n",
    "        ED.append(dist)\n",
    "for i in range(0,len(ED),3):\n",
    "    ED_cen1.append(ED[i])\n",
    "for j in range(1,len(ED),3):\n",
    "    ED_cen2.append(ED[j])\n",
    "for k in range(2,len(ED),3):\n",
    "    ED_cen3.append(ED[k])\n",
    "data = D\n",
    "data['ED w.r.t. centroid 1'] = ED_cen1\n",
    "data['ED w.r.t. centroid 2'] = ED_cen2\n",
    "data['ED w.r.t. centroid 3'] = ED_cen3\n",
    "data.head()"
   ]
  },
  {
   "cell_type": "code",
   "execution_count": 70,
   "metadata": {},
   "outputs": [
    {
     "data": {
      "text/html": [
       "<div>\n",
       "<style scoped>\n",
       "    .dataframe tbody tr th:only-of-type {\n",
       "        vertical-align: middle;\n",
       "    }\n",
       "\n",
       "    .dataframe tbody tr th {\n",
       "        vertical-align: top;\n",
       "    }\n",
       "\n",
       "    .dataframe thead th {\n",
       "        text-align: right;\n",
       "    }\n",
       "</style>\n",
       "<table border=\"1\" class=\"dataframe\">\n",
       "  <thead>\n",
       "    <tr style=\"text-align: right;\">\n",
       "      <th></th>\n",
       "      <th>ApplicantIncome</th>\n",
       "      <th>LoanAmount</th>\n",
       "      <th>ED w.r.t. centroid 1</th>\n",
       "      <th>ED w.r.t. centroid 2</th>\n",
       "      <th>ED w.r.t. centroid 3</th>\n",
       "      <th>cluster</th>\n",
       "    </tr>\n",
       "  </thead>\n",
       "  <tbody>\n",
       "    <tr>\n",
       "      <th>0</th>\n",
       "      <td>4583</td>\n",
       "      <td>128.0</td>\n",
       "      <td>583.123486</td>\n",
       "      <td>2405.799036</td>\n",
       "      <td>1351.148030</td>\n",
       "      <td>1</td>\n",
       "    </tr>\n",
       "    <tr>\n",
       "      <th>1</th>\n",
       "      <td>3000</td>\n",
       "      <td>66.0</td>\n",
       "      <td>1002.734262</td>\n",
       "      <td>822.000000</td>\n",
       "      <td>235.771075</td>\n",
       "      <td>3</td>\n",
       "    </tr>\n",
       "    <tr>\n",
       "      <th>2</th>\n",
       "      <td>2583</td>\n",
       "      <td>120.0</td>\n",
       "      <td>1417.141136</td>\n",
       "      <td>408.584141</td>\n",
       "      <td>649.110930</td>\n",
       "      <td>2</td>\n",
       "    </tr>\n",
       "    <tr>\n",
       "      <th>3</th>\n",
       "      <td>6000</td>\n",
       "      <td>141.0</td>\n",
       "      <td>2000.000250</td>\n",
       "      <td>3822.735800</td>\n",
       "      <td>2768.196705</td>\n",
       "      <td>1</td>\n",
       "    </tr>\n",
       "    <tr>\n",
       "      <th>4</th>\n",
       "      <td>2333</td>\n",
       "      <td>95.0</td>\n",
       "      <td>1667.607268</td>\n",
       "      <td>157.689568</td>\n",
       "      <td>899.093988</td>\n",
       "      <td>2</td>\n",
       "    </tr>\n",
       "  </tbody>\n",
       "</table>\n",
       "</div>"
      ],
      "text/plain": [
       "   ApplicantIncome  LoanAmount  ED w.r.t. centroid 1  ED w.r.t. centroid 2  \\\n",
       "0             4583       128.0            583.123486           2405.799036   \n",
       "1             3000        66.0           1002.734262            822.000000   \n",
       "2             2583       120.0           1417.141136            408.584141   \n",
       "3             6000       141.0           2000.000250           3822.735800   \n",
       "4             2333        95.0           1667.607268            157.689568   \n",
       "\n",
       "   ED w.r.t. centroid 3  cluster  \n",
       "0           1351.148030        1  \n",
       "1            235.771075        3  \n",
       "2            649.110930        2  \n",
       "3           2768.196705        1  \n",
       "4            899.093988        2  "
      ]
     },
     "execution_count": 70,
     "metadata": {},
     "output_type": "execute_result"
    }
   ],
   "source": [
    "# Step - 3 : Assign the points to the cluster where the point is having the shortest distance with the cluster's centroid\n",
    "cluster = []\n",
    "for i in D.itertuples():\n",
    "    if i[3] < i[4]  and i[3] < i[5]:\n",
    "        cluster.append(1)\n",
    "    if i[4] < i[3] and i[4] < i[5]:\n",
    "        cluster.append(2)\n",
    "    if i[5] < i[3] and i[5] < i[4]:\n",
    "        cluster.append(3)\n",
    "data['cluster'] = cluster\n",
    "data.head()"
   ]
  },
  {
   "cell_type": "code",
   "execution_count": 77,
   "metadata": {},
   "outputs": [
    {
     "data": {
      "text/html": [
       "<div>\n",
       "<style scoped>\n",
       "    .dataframe tbody tr th:only-of-type {\n",
       "        vertical-align: middle;\n",
       "    }\n",
       "\n",
       "    .dataframe tbody tr th {\n",
       "        vertical-align: top;\n",
       "    }\n",
       "\n",
       "    .dataframe thead th {\n",
       "        text-align: right;\n",
       "    }\n",
       "</style>\n",
       "<table border=\"1\" class=\"dataframe\">\n",
       "  <thead>\n",
       "    <tr style=\"text-align: right;\">\n",
       "      <th></th>\n",
       "      <th>ApplicantIncome</th>\n",
       "      <th>LoanAmount</th>\n",
       "    </tr>\n",
       "    <tr>\n",
       "      <th>cluster</th>\n",
       "      <th></th>\n",
       "      <th></th>\n",
       "    </tr>\n",
       "  </thead>\n",
       "  <tbody>\n",
       "    <tr>\n",
       "      <th>1</th>\n",
       "      <td>4908.326797</td>\n",
       "      <td>113.326797</td>\n",
       "    </tr>\n",
       "    <tr>\n",
       "      <th>2</th>\n",
       "      <td>2157.183486</td>\n",
       "      <td>96.559633</td>\n",
       "    </tr>\n",
       "    <tr>\n",
       "      <th>3</th>\n",
       "      <td>3174.907563</td>\n",
       "      <td>101.983193</td>\n",
       "    </tr>\n",
       "  </tbody>\n",
       "</table>\n",
       "</div>"
      ],
      "text/plain": [
       "         ApplicantIncome  LoanAmount\n",
       "cluster                             \n",
       "1            4908.326797  113.326797\n",
       "2            2157.183486   96.559633\n",
       "3            3174.907563  101.983193"
      ]
     },
     "execution_count": 77,
     "metadata": {},
     "output_type": "execute_result"
    }
   ],
   "source": [
    "# Step - 4 : Calculate mean of each newly formed cluster and assign it as new centroid\n",
    "Centroids_New = data.groupby('cluster')[['ApplicantIncome','LoanAmount']].apply(lambda x : np.mean(x))\n",
    "Centroids_New"
   ]
  },
  {
   "cell_type": "code",
   "execution_count": 79,
   "metadata": {},
   "outputs": [
    {
     "name": "stdout",
     "output_type": "stream",
     "text": [
      "522.8026187377717\n",
      "420.62500894962375\n",
      "257.4203791040944\n",
      "207.02731030932063\n",
      "277.68763984371935\n",
      "244.66095351174067\n",
      "229.06905235705375\n",
      "218.24897861156342\n",
      "107.07928213052429\n",
      "52.84741626127729\n",
      "98.54724443834282\n",
      "90.64953219227577\n",
      "18.274686272279013\n",
      "9.21023994083339\n",
      "18.345487493007468\n",
      "46.27013250786139\n",
      "0.0\n"
     ]
    }
   ],
   "source": [
    "# Step - 5 : Repeat steps 2 - 4 till convergence (Cluster centers / centroids do not change (or) till wcss dist. becomes min. and const.)\n",
    "diff = 1\n",
    "j = 0\n",
    "while(diff != 0):\n",
    "    ED = []\n",
    "    ED_cen1 = []\n",
    "    ED_cen2 = []\n",
    "    ED_cen3 = []\n",
    "    for i in D.itertuples():\n",
    "        for j in Centroids.itertuples():\n",
    "            dist = np.sqrt((i[1] - j[1])**2 + (i[2] - j[2])**2)\n",
    "            ED.append(dist) \n",
    "    for i in range(0,len(ED),3):\n",
    "        ED_cen1.append(ED[i])\n",
    "    for j in range(1,len(ED),3):\n",
    "        ED_cen2.append(ED[j])\n",
    "    for k in range(2,len(ED),3):\n",
    "        ED_cen3.append(ED[k])\n",
    "    data = D\n",
    "    data['ED w.r.t. centroid 1'] = ED_cen1\n",
    "    data['ED w.r.t. centroid 2'] = ED_cen2\n",
    "    data['ED w.r.t. centroid 3'] = ED_cen3 # Repeating step -2\n",
    "    cluster = []\n",
    "    for i in D.itertuples():\n",
    "        if i[3] < i[4]  and i[3] < i[5]:\n",
    "            cluster.append(1)\n",
    "        if i[4] < i[3] and i[4] < i[5]:\n",
    "            cluster.append(2)\n",
    "        if i[5] < i[3] and i[5] < i[4]:\n",
    "            cluster.append(3)\n",
    "    data['cluster'] = cluster # Repeating step - 3\n",
    "    Centroids_New = data.groupby('cluster')[['ApplicantIncome','LoanAmount']].apply(lambda x : np.mean(x)) # Repeating step -4\n",
    "    if j == 0:\n",
    "        diff=1\n",
    "        j=j+1\n",
    "    else:\n",
    "        diff = (Centroids_New['ApplicantIncome'] - Centroids['ApplicantIncome']).sum() + (Centroids_New['LoanAmount'] - Centroids['LoanAmount']).sum()\n",
    "        print(diff)\n",
    "    Centroids = data.groupby('cluster')[['ApplicantIncome','LoanAmount']].apply(lambda x : np.mean(x))"
   ]
  },
  {
   "cell_type": "markdown",
   "metadata": {},
   "source": [
    "The iterations stop when difference between previous cluster centroid and new cluster centroid is 0."
   ]
  },
  {
   "cell_type": "code",
   "execution_count": 88,
   "metadata": {},
   "outputs": [
    {
     "data": {
      "image/png": "[encoded data removed]",
      "text/plain": [
       "<Figure size 432x288 with 1 Axes>"
      ]
     },
     "metadata": {
      "needs_background": "light"
     },
     "output_type": "display_data"
    }
   ],
   "source": [
    "# Visualizing the clusters of these 2 features\n",
    "color = ['blue','green','yellow']\n",
    "k= 3\n",
    "for i in range(0,k):\n",
    "    data_k = data[data['cluster'] == i+1]\n",
    "    plt.scatter(data_k['ApplicantIncome'], data_k['LoanAmount'], c = color[i])\n",
    "plt.scatter(Centroids['ApplicantIncome'], Centroids['LoanAmount'],c = 'red')\n",
    "plt.xlabel('ApplicantIncome')\n",
    "plt.ylabel('LoanAmount')\n",
    "plt.title('Clustering')\n",
    "plt.show()"
   ]
  },
  {
   "cell_type": "code",
   "execution_count": null,
   "metadata": {},
   "outputs": [],
   "source": []
  },
  {
   "cell_type": "code",
   "execution_count": null,
   "metadata": {},
   "outputs": [],
   "source": []
  },
  {
   "cell_type": "code",
   "execution_count": null,
   "metadata": {},
   "outputs": [],
   "source": []
  },
  {
   "cell_type": "code",
   "execution_count": null,
   "metadata": {},
   "outputs": [],
   "source": []
  },
  {
   "cell_type": "code",
   "execution_count": null,
   "metadata": {},
   "outputs": [],
   "source": []
  },
  {
   "cell_type": "code",
   "execution_count": null,
   "metadata": {},
   "outputs": [],
   "source": []
  },
  {
   "cell_type": "code",
   "execution_count": null,
   "metadata": {},
   "outputs": [],
   "source": []
  },
  {
   "cell_type": "code",
   "execution_count": null,
   "metadata": {},
   "outputs": [],
   "source": []
  },
  {
   "cell_type": "code",
   "execution_count": null,
   "metadata": {},
   "outputs": [],
   "source": []
  },
  {
   "cell_type": "code",
   "execution_count": null,
   "metadata": {},
   "outputs": [],
   "source": []
  },
  {
   "cell_type": "code",
   "execution_count": null,
   "metadata": {},
   "outputs": [],
   "source": []
  },
  {
   "cell_type": "code",
   "execution_count": null,
   "metadata": {},
   "outputs": [],
   "source": []
  }
 ],
 "metadata": {
  "kernelspec": {
   "display_name": "Python 3",
   "language": "python",
   "name": "python3"
  },
  "language_info": {
   "codemirror_mode": {
    "name": "ipython",
    "version": 3
   },
   "file_extension": ".py",
   "mimetype": "text/x-python",
   "name": "python",
   "nbconvert_exporter": "python",
   "pygments_lexer": "ipython3",
   "version": "3.8.5"
  }
 },
 "nbformat": 4,
 "nbformat_minor": 4
}
